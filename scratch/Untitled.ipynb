{
 "cells": [
  {
   "cell_type": "code",
   "execution_count": null,
   "id": "satellite-beauty",
   "metadata": {},
   "outputs": [],
   "source": [
    "# function to deterimine if string is palindrome\n",
    "def reverse(s):\n",
    "    if len(s) == 0:\n",
    "        return s\n",
    "    else:\n",
    "        return reverse(s[1:]) + s[0]\n",
    "\n",
    "def is_palin(in_string):\n",
    "    #reverse string\n",
    "    rev_str = reverse(in_string)\n",
    "    #count if even or odd\n",
    "    count_to = round(len(in_string)/2, 0)\n",
    "    #make a number to loop through both strings\n",
    "    for index in range (count_to):\n",
    "    #if anytime mismatch then say not\n",
    "        if in_sring[index] != rev_str[index]:\n",
    "            return (False)\n",
    "    #if you reach the end and everything matches, say yes\n",
    "    "
   ]
  }
 ],
 "metadata": {
  "kernelspec": {
   "display_name": "Python 3",
   "language": "python",
   "name": "python3"
  },
  "language_info": {
   "codemirror_mode": {
    "name": "ipython",
    "version": 3
   },
   "file_extension": ".py",
   "mimetype": "text/x-python",
   "name": "python",
   "nbconvert_exporter": "python",
   "pygments_lexer": "ipython3",
   "version": "3.7.10"
  }
 },
 "nbformat": 4,
 "nbformat_minor": 5
}
